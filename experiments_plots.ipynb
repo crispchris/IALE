{
 "cells": [
  {
   "cell_type": "code",
   "execution_count": null,
   "metadata": {},
   "outputs": [],
   "source": [
    "%matplotlib inline"
   ]
  },
  {
   "cell_type": "code",
   "execution_count": null,
   "metadata": {},
   "outputs": [],
   "source": [
    "import properties as prop\n",
    "import matplotlib.pyplot as plt\n",
    "from results.results_reader import read_results\n",
    "import numpy as np\n",
    "import seaborn as sns\n",
    "import pandas as pd\n",
    "from matplotlib.pyplot import figure\n",
    "\n",
    "INIT_SIZE = 20\n",
    "ACQ_SIZE = 20\n",
    "\n",
    "current_palette = sns.color_palette()\n",
    "sns.set_style('whitegrid')\n",
    "# plt.style.use('ggplot')\n",
    "figure(num=None, figsize=(12, 8), dpi=80, facecolor='w', edgecolor='k')\n",
    "\n",
    "linewidth = 3\n",
    "markersize = 5\n",
    "with_stddev = True\n",
    "\n",
    "def plot(keys, results, strategies, acq_size=ACQ_SIZE, ylim=(0,1), lim=1000, loc='lower right', noAL=[0.1, 0.01]):\n",
    "    \n",
    "    for i in keys:\n",
    "        means = np.array(results[strategies[i]][0])\n",
    "        std = np.array(results[strategies[i]][1])\n",
    "        x = [x * acq_size + 20 for x in range(len(means))]\n",
    "        if labels[i].endswith('Random'):\n",
    "            color = 'black'\n",
    "            plt.plot(x, means, marker='.', label=labels[i], linestyle='--', linewidth=5, markersize=markersize,\n",
    "                     color=color)\n",
    "            if with_stddev:\n",
    "                plt.fill_between(x, means + std, means - std, alpha=0.1, color=color)\n",
    "        else:\n",
    "            plt.plot(x, means, marker='.', label=labels[i], linewidth=linewidth, markersize=markersize)\n",
    "            if with_stddev:\n",
    "                plt.fill_between(x, means + std, means - std, alpha=0.1)\n",
    "\n",
    "    plt.plot([0, 1000], [noAL[0], noAL[0]], label='full dataset', linestyle='--')\n",
    "    plt.fill_between([0, 1000], noAL[0] + noAL[1], noAL[0]-noAL[1], alpha=0.1)\n",
    "    plt.legend(loc=loc, prop={'size': 10})\n",
    "    plt.ylabel(\"Test data accuracy score\")\n",
    "    plt.xlabel(\"Labeling effort\")\n",
    "    plt.ylim(ylim)\n",
    "    plt.xlim(0, lim)\n",
    "    plt.show()"
   ]
  },
  {
   "cell_type": "markdown",
   "metadata": {},
   "source": [
    "# MNIST"
   ]
  },
  {
   "cell_type": "code",
   "execution_count": null,
   "metadata": {},
   "outputs": [],
   "source": [
    "strategies = ['alil', 'random', 'mc-dropout', 'ensemble', 'coreset', 'policy-learner', 'policy-learner_exp99', 'coreset_100', 'coreset_all', 'policy-learner_coreset', 'policy-fixed']\n",
    "labels = ['ALIL', 'Random', 'MC Dropout', 'Ensemble', 'Corest', 'Policy', 'Policy (exp)', 'CoreSet k=100', 'CoreSet', 'Policy Coreset', 'Our method']\n",
    "keys = [10, 0, 1, 3, 2, 8]\n",
    "results_1 = read_results(results_file=\"./results/experiments_mnist_1000_10_exp_experts_99.json\")\n",
    "results_2 = read_results(results_file=\"./results/experiment_alilmnist_1000_10.json\")\n",
    "results_3 = read_results(results_file=\"./results/experiments_mnist_1000_10_coresets.json\")\n",
    "results_4 = read_results(results_file=\"./results/experiments_mnist_1000_10_fixed_experts_99_exp-vs-fixed.json\")\n",
    "results_1.update(results_2)\n",
    "results_1.update(results_3)\n",
    "results_1.update(results_4)\n",
    "noAL=[0.9924, 0.000245]\n",
    "\n",
    "plot(keys, results_1, strategies, acq_size=10, ylim=(0.75,1), loc='lower right', noAL=noAL)"
   ]
  },
  {
   "cell_type": "markdown",
   "metadata": {},
   "source": [
    "# FashionMNIST"
   ]
  },
  {
   "cell_type": "code",
   "execution_count": null,
   "metadata": {},
   "outputs": [],
   "source": [
    "strategies = ['alil', 'random', 'mc-dropout', 'ensemble', 'coreset', 'policy-learner', 'policy-learner_exp99', 'coreset_100', 'coreset_all', 'policy-learner_coreset', 'policy-fixed']\n",
    "labels = ['ALIL', 'Random', 'MC Dropout', 'Ensemble', 'Corest', 'Policy', 'Policy (exp)', 'CoreSet k=100', 'CoreSet', 'Policy Coreset', 'Our method']\n",
    "keys = [10, 0, 1, 3, 2, 8]\n",
    "\n",
    "# baselines\n",
    "results = read_results(results_file=\"./results/experiments_fmnist_1000_10_baselines.json\")\n",
    "results.update(read_results(results_file=\"./results/experiments_fmnist_1000_10_coresets.json\"))\n",
    "results.update(read_results(results_file=\"./results/experiment_alilfmnist_1000_10.json\"))\n",
    "# exp and fixed\n",
    "results.update(read_results(results_file=\"./results/experiments_fmnist_1000_10_fixed_experts_99_exp-vs-fixed.json\"))\n",
    "results.update(read_results(results_file=\"./results/experiments_fmnist_1000_10_exp_experts_99_exp-vs-fixed.json\"))\n",
    "\n",
    "plot(keys, results, strategies, acq_size=10, ylim=(0.6,0.9), lim=1000, noAL=[0.932, 0.0017])"
   ]
  },
  {
   "cell_type": "markdown",
   "metadata": {},
   "source": [
    "# KMNIST"
   ]
  },
  {
   "cell_type": "code",
   "execution_count": null,
   "metadata": {},
   "outputs": [],
   "source": [
    "strategies = ['alil', 'random', 'mc-dropout', 'ensemble', 'coreset', 'policy-learner', 'policy-learner_exp99', 'coreset_100', 'coreset_all', 'policy-learner_coreset', 'policy-fixed']\n",
    "labels = ['ALIL', 'Random', 'MC Dropout', 'Ensemble', 'Corest', 'Policy', 'Policy (exp)', 'CoreSet k=100', 'CoreSet', 'Policy Coreset', 'Our method']\n",
    "keys = [10, 0, 1, 3, 2, 8]\n",
    "results = read_results(results_file=\"./results/experiments_kmnist_1000_10_baselines.json\")\n",
    "results.update(read_results(results_file=\"./results/experiment_alilkmnist_1000_10.json\"))\n",
    "results.update(read_results(results_file=\"./results/experiments_kmnist_1000_10_coresets.json\"))\n",
    "results.update(read_results(results_file=\"./results/experiments_kmnist_1000_10_fixed_experts_99_exp-vs-fixed.json\"))\n",
    "results.update(read_results(results_file=\"./results/experiments_kmnist_1000_10_exp_experts_99_exp-vs-fixed.json\"))\n",
    "\n",
    "plot(keys, results, strategies, acq_size=10, ylim=(0.55,0.85), loc='upper left')"
   ]
  },
  {
   "cell_type": "markdown",
   "metadata": {},
   "source": [
    "# Special tests"
   ]
  },
  {
   "cell_type": "markdown",
   "metadata": {},
   "source": [
    "### exp fs fixed"
   ]
  },
  {
   "cell_type": "code",
   "execution_count": null,
   "metadata": {},
   "outputs": [],
   "source": [
    "print(\"mnist\")\n",
    "strategies = ['policy-fixed', 'policy-exp', 'alil', 'random', 'mc-dropout', 'ensemble', 'coreset_all']\n",
    "labels = ['fixed p', 'exp p', 'ALIL', 'Random', 'MC Dropout', 'Ensemble', 'Corest', 'EXP?']\n",
    "keys = [0, 1, 3]\n",
    "\n",
    "# baselines\n",
    "results = read_results(results_file=\"./results/experiments_mnist_1000_10_coresets.json\")\n",
    "# exp and fixed\n",
    "results.update(read_results(results_file=\"./results/experiments_mnist_1000_10_fixed_experts_99_exp-vs-fixed.json\"))\n",
    "results.update(read_results(results_file=\"./results/experiments_mnist_1000_10_exp_experts_99_exp-vs-fixed.json\"))\n",
    "\n",
    "plot(keys, results, strategies, acq_size=10, ylim=(0.75,1), lim=1000)"
   ]
  },
  {
   "cell_type": "code",
   "execution_count": null,
   "metadata": {},
   "outputs": [],
   "source": [
    "print(\"fmnist\")\n",
    "strategies = ['policy-fixed', 'policy-exp', 'alil', 'random']\n",
    "labels = ['fixed p', 'exp p', 'ALIL', 'Random']\n",
    "keys = [0, 1, 3]\n",
    "# baselines\n",
    "results = read_results(results_file=\"./results/experiments_fmnist_1000_10_baselines.json\")\n",
    "# exp and fixed\n",
    "results.update(read_results(results_file=\"./results/experiments_fmnist_1000_10_fixed_experts_99_exp-vs-fixed.json\"))\n",
    "results.update(read_results(results_file=\"./results/experiments_fmnist_1000_10_exp_experts_99_exp-vs-fixed.json\"))\n",
    "\n",
    "plot(keys, results, strategies, acq_size=10, ylim=(0.6,0.9), lim=1000)"
   ]
  },
  {
   "cell_type": "code",
   "execution_count": null,
   "metadata": {},
   "outputs": [],
   "source": [
    "# kmnist\n",
    "strategies = ['policy-fixed', 'policy-exp','alil', 'random', 'mc-dropout', 'ensemble', 'coreset', 'policy-learner', 'policy-learner_state_True', 'coreset_100', 'coreset_all', 'policy-learner_coreset']\n",
    "labels = ['fixed p', 'exp p', 'ALIL', 'Random', 'MC Dropout', 'Ensemble', 'Corest', 'Policy', 'Policy (exp)', 'CoreSet k=100', 'CoreSet', 'Policy Coreset']\n",
    "keys = [0, 1, 3]\n",
    "results = read_results(results_file=\"./results/experiments_kmnist_1000_10_baselines.json\")\n",
    "results.update(read_results(results_file=\"./results/experiments_kmnist_1000_10_fixed_experts_99_exp-vs-fixed.json\"))\n",
    "results.update(read_results(results_file=\"./results/experiments_kmnist_1000_10_exp_experts_99_exp-vs-fixed.json\"))\n",
    "\n",
    "plot(keys, results, strategies, acq_size=10, ylim=(0.55,0.85))"
   ]
  },
  {
   "cell_type": "markdown",
   "metadata": {},
   "source": [
    "### 10 20 40 acquisition sizes"
   ]
  },
  {
   "cell_type": "code",
   "execution_count": null,
   "metadata": {},
   "outputs": [],
   "source": [
    "def plot2(keys, results, strategies,acq_sizes, acq_size=ACQ_SIZE, ylim=(0,1), lim=1000, loc='lower right'):\n",
    "    for idx, i in enumerate(keys):\n",
    "        means = np.array(results[strategies[i]][0])\n",
    "        std = np.array(results[strategies[i]][1])\n",
    "        x = [x * acq_sizes[idx] + 20 for x in range(len(means))]\n",
    "        if labels[i].endswith('Random'):\n",
    "            color = 'black'\n",
    "            plt.plot(x, means, marker='.', label=labels[i], linestyle='--', linewidth=5, markersize=markersize,\n",
    "                     color=color)\n",
    "            if with_stddev:\n",
    "                plt.fill_between(x, means + std, means - std, alpha=0.1, color=color)\n",
    "        else:\n",
    "            plt.plot(x, means, marker='.', label=labels[i], linewidth=linewidth, markersize=markersize)\n",
    "            if with_stddev:\n",
    "                plt.fill_between(x, means + std, means - std, alpha=0.1)\n",
    "    plt.legend(loc=loc, prop={'size': 10})\n",
    "    plt.ylabel(\"Test data accuracy score\")\n",
    "    plt.xlabel(\"Labeling effort\")\n",
    "    plt.ylim(ylim)\n",
    "    plt.xlim(0, lim)\n",
    "    plt.show()\n",
    "\n",
    "strategies = ['policy-exp', 'policy-fixed', 'policy-pool-cs', 'random', 'policy-pool', 'policy-fixed-20','policy-fixed-40']\n",
    "labels = ['Ours exp', 'acq: 10', 'Ours + Pool Emb. + CoreSet', 'Random', 'Ours + Pool Emb.', 'acq: 20', 'acq: 40']\n",
    "\n",
    "print(\"fmnist\")\n",
    "keys = [1, 5, 6, 3]\n",
    "acq_sizes = [10, 20, 40, 10]\n",
    "results = read_results(results_file=\"./results/experiments_fmnist_1000_10_baselines.json\")\n",
    "results.update(read_results(results_file=\"./results/experiments_fmnist_1000_10_fixed_experts_99_exp-vs-fixed.json\"))\n",
    "results.update(read_results(results_file=\"results/experiments_fmnist_1020_40_fixed_experts_99_exp-vs-fixed.json\"))\n",
    "results.update(read_results(results_file=\"results/experiments_fmnist_980_20_fixed_experts_99_exp-vs-fixed.json\"))\n",
    "\n",
    "plot2(keys, results, strategies, acq_sizes=acq_sizes, acq_size=10, ylim=(0.7,0.86), loc='lower right')"
   ]
  },
  {
   "cell_type": "markdown",
   "metadata": {},
   "source": [
    "### Sub Pool sizes in [50, 100, 200, 400]"
   ]
  },
  {
   "cell_type": "code",
   "execution_count": null,
   "metadata": {},
   "outputs": [],
   "source": [
    "strategies = ['policy-exp', 'random', 'policy-learner_state_True_size-K-10', \n",
    "              'policy-learner_state_True_size-K-20','policy-learner_state_True_size-K-50',\n",
    "              'policy-learner_state_True_size-K-100', 'policy-learner_state_True_size-K-200',\n",
    "             'policy-learner_state_True_size-K-400', 'policy-learner_state_True_size-K-1000']\n",
    "labels = ['Ours exp', 'Random', 'n = 10', 'n= 20', 'n = 50', 'n = 100', 'n = 200', 'n = 400', 'n = 1000']\n",
    "\n",
    "print(\"fmnist\")\n",
    "keys = [1, 2, 4, 5, 7, 8]\n",
    "results = read_results(results_file=\"./results/experiments_fmnist_1000_10_baselines.json\")\n",
    "results.update(read_results(results_file=\"./results/experiments_fmnist_1000_10_fixed_experts_99_exp-vs-fixed_multistates.json\"))\n",
    "\n",
    "plot(keys, results, strategies, acq_size=10, ylim=(0.76,0.86), loc='lower right')"
   ]
  },
  {
   "cell_type": "markdown",
   "metadata": {},
   "source": [
    "## Pool Embedding, Coreset Expert, Exp, Fixed"
   ]
  },
  {
   "cell_type": "code",
   "execution_count": null,
   "metadata": {},
   "outputs": [],
   "source": [
    "## MNIST\n",
    "\n",
    "strategies = ['policy-exp', 'policy-fixed', 'policy-pool-cs', 'random', 'policy-pool']\n",
    "labels = ['Exp', 'Fixed', 'Exp + Pool Emb. + CoreSet', 'Random', 'Exp + Pool Emb.']\n",
    "keys = [1, 0, 4, 2, 3]\n",
    "\n",
    "print(\"mnist\")\n",
    "results = read_results(results_file=\"./results/experiments_mnist_1000_10_baselines.json\")\n",
    "results.update(read_results(results_file=\"./results/experiments_mnist_1000_10_exp_experts_99_exp-vs-fixed.json\"))\n",
    "results.update(read_results(results_file=\"./results/experiments_mnist_1000_10_fixed_experts_99_exp-vs-fixed.json\"))\n",
    "results.update(read_results(results_file=\"./results/experiments_mnist_1000_10_exp_experts_99_poolemb_cs.json\"))\n",
    "\n",
    "results.update(read_results(results_file=\"./results/experiments_mnist_1000_10_exp_experts_99_pool_embedding.json\"))\n",
    "plot(keys, results, strategies, acq_size=10, ylim=(0.55,1), loc='lower right')\n",
    "\n",
    "print(\"fmnist\")\n",
    "results = read_results(results_file=\"./results/experiments_fmnist_1000_10_baselines.json\")\n",
    "results.update(read_results(results_file=\"./results/experiments_fmnist_1000_10_exp_experts_99_exp-vs-fixed.json\"))\n",
    "results.update(read_results(results_file=\"./results/experiments_fmnist_1000_10_fixed_experts_99_exp-vs-fixed.json\"))\n",
    "results.update(read_results(results_file=\"./results/experiments_fmnist_1000_10_exp_experts_99_poolemb_cs.json\"))\n",
    "results.update(read_results(results_file=\"./results/experiments_fmnist_1000_10_exp_experts_99_pool_embedding.json\"))\n",
    "plot(keys, results, strategies, acq_size=10, ylim=(0.6,0.9), loc='lower right')"
   ]
  },
  {
   "cell_type": "markdown",
   "metadata": {},
   "source": [
    "### random expert"
   ]
  },
  {
   "cell_type": "code",
   "execution_count": null,
   "metadata": {},
   "outputs": [],
   "source": [
    "strategies = ['random', 'mc-dropout', 'ensemble', 'coreset', 'policy-learner', 'policy-learner_state_True']\n",
    "labels = ['Random', 'MC Dropout', 'Ensemble', 'Corest', 'Policy', 'Random as third expert']\n",
    "\n",
    "results = read_results(results_file=\"./results/exp_mnist_1000_20_rnd_52.json\")\n",
    "keys = [0, 5]\n",
    "plot(keys, results, strategies, acq_size=20, ylim=(0.6,1), loc='lower right')"
   ]
  }
 ],
 "metadata": {
  "kernelspec": {
   "display_name": "Python 3",
   "language": "python",
   "name": "python3"
  },
  "language_info": {
   "codemirror_mode": {
    "name": "ipython",
    "version": 3
   },
   "file_extension": ".py",
   "mimetype": "text/x-python",
   "name": "python",
   "nbconvert_exporter": "python",
   "pygments_lexer": "ipython3",
   "version": "3.7.6"
  }
 },
 "nbformat": 4,
 "nbformat_minor": 4
}

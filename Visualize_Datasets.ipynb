{
 "cells": [
  {
   "cell_type": "markdown",
   "metadata": {},
   "source": [
    "# MNIST"
   ]
  },
  {
   "cell_type": "code",
   "execution_count": null,
   "metadata": {},
   "outputs": [],
   "source": [
    "%matplotlib inline"
   ]
  },
  {
   "cell_type": "code",
   "execution_count": null,
   "metadata": {},
   "outputs": [],
   "source": [
    "def plot(X, y, filename, labels):\n",
    "    fig = plt.figure(figsize=(4,2))\n",
    "    #plt.subplots_adjust(hspace = .0001)\n",
    "\n",
    "    for i in range(4):\n",
    "        plt.subplot(1,4,i+1)\n",
    "        plt.imshow(X[i], cmap='gray', interpolation='none')\n",
    "        plt.title(\"{}\".format(labels[y[i]]), fontsize=12)\n",
    "        plt.xticks([])\n",
    "        plt.yticks([])\n",
    "\n",
    "    fig.tight_layout()\n",
    "    plt.subplots_adjust(wspace=0.1, left=0, bottom=0, hspace=0.4)\n",
    "    plt.savefig(filename, format=\"pdf\",\n",
    "                    dpi=None,\n",
    "                    facecolor='w',\n",
    "                    edgecolor='w',\n",
    "                    orientation='portrait',\n",
    "                    papertype=None,\n",
    "                    transparent=False,\n",
    "                    bbox_inches='tight',\n",
    "                    pad_inches=0.0,\n",
    "                    frameon=None,\n",
    "                    metadata=None)\n",
    "    from wand.image import Image as WImage\n",
    "    img = WImage(filename=filename, resolution=100) # bigger\n",
    "    return img\n",
    "# imports for array-handling and plotting\n",
    "import numpy as np\n",
    "import matplotlib\n",
    "matplotlib.use('agg')\n",
    "import matplotlib.pyplot as plt\n",
    "\n",
    "# let's keep our keras backend tensorflow quiet\n",
    "import os\n",
    "os.environ['TF_CPP_MIN_LOG_LEVEL']='3'\n",
    "# for testing on CPU\n",
    "#os.environ['CUDA_VISIBLE_DEVICES'] = ''\n",
    "\n",
    "# keras imports for the dataset and building our neural network\n",
    "from keras.datasets import mnist\n",
    "from keras.models import Sequential, load_model\n",
    "from keras.layers.core import Dense, Dropout, Activation\n",
    "from keras.utils import np_utils\n",
    "\n",
    "(X_train, y_train), (X_test, y_test) = mnist.load_data()\n",
    "labels = ['0', '1', '2', '3', '4', '5', '6', '7', '8', '9']\n",
    "plot(X_train, y_train, filename='mnist.pdf', labels=labels)"
   ]
  },
  {
   "cell_type": "code",
   "execution_count": null,
   "metadata": {},
   "outputs": [],
   "source": [
    "import keras\n",
    "from sklearn.utils import shuffle\n",
    "\n",
    "fashion_mnist = keras.datasets.fashion_mnist\n",
    "(train_images, train_labels), (test_images, test_labels) = fashion_mnist.load_data()\n",
    "\n",
    "train_images, train_labels = shuffle(train_images, train_labels, random_state=42)\n",
    "labels = ['t_shirt_top', 'trouser', 'pullover', 'dress', 'coat', 'sandal', 'shirt', 'sneaker', 'bag', 'ankle_boots']\n",
    "plot(train_images, train_labels, filename='fashion_mnist.pdf', labels=labels)"
   ]
  },
  {
   "cell_type": "code",
   "execution_count": null,
   "metadata": {},
   "outputs": [],
   "source": [
    "from torchvision.datasets import KMNIST\n",
    "from sklearn.utils import shuffle\n",
    "import pwd, os\n",
    "\n",
    "DATA_PATH = pwd.getpwuid(os.getuid()).pw_dir + '/time_series_data/kMNIST'\n",
    "train_dataset = KMNIST(DATA_PATH, train=True, download=True)\n",
    "train_images, train_labels = shuffle(train_dataset.data, train_dataset.targets, random_state=42)\n",
    "labels = ['0', '1', '2', '3', 'na', 'ha', 'yu', 'ya', '8', '9']\n",
    "plot(train_images, train_labels, filename='kmnist.pdf', labels=labels)"
   ]
  },
  {
   "cell_type": "code",
   "execution_count": null,
   "metadata": {},
   "outputs": [],
   "source": []
  }
 ],
 "metadata": {
  "kernelspec": {
   "display_name": "Python 3",
   "language": "python",
   "name": "python3"
  },
  "language_info": {
   "codemirror_mode": {
    "name": "ipython",
    "version": 3
   },
   "file_extension": ".py",
   "mimetype": "text/x-python",
   "name": "python",
   "nbconvert_exporter": "python",
   "pygments_lexer": "ipython3",
   "version": "3.7.6"
  }
 },
 "nbformat": 4,
 "nbformat_minor": 4
}
